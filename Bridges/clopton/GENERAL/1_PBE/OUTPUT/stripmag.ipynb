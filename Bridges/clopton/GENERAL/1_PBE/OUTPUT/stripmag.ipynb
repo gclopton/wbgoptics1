{
 "cells": [
  {
   "cell_type": "code",
   "execution_count": 5,
   "outputs": [
    {
     "name": "stdout",
     "output_type": "stream",
     "text": [
      "hello\n"
     ]
    }
   ],
   "source": [],
   "metadata": {
    "collapsed": false,
    "pycharm": {
     "name": "#%%\n"
    }
   }
  },
  {
   "cell_type": "code",
   "execution_count": 11,
   "outputs": [
    {
     "name": "stdout",
     "output_type": "stream",
     "text": [
      "hello\n"
     ]
    }
   ],
   "source": [
    "print('hello')"
   ],
   "metadata": {
    "collapsed": false,
    "pycharm": {
     "name": "#%%\n"
    }
   }
  },
  {
   "cell_type": "code",
   "execution_count": 7,
   "outputs": [
    {
     "name": "stdout",
     "output_type": "stream",
     "text": [
      "Copied 164 lines to output file\n",
      "hello\n"
     ]
    }
   ],
   "source": [
    "def read_write_file():\n",
    "    search_text = \" magnetization (x)\"  # replace with the text you want to search for\n",
    "    num_lines = 164  # replace with the number of lines you want to copy\n",
    "\n",
    "    # Open the input file for reading\n",
    "    with open(\"OUTCAR\", \"r\") as f:\n",
    "        lines = f.readlines()\n",
    "\n",
    "    # Find the last instance of the search text in the file\n",
    "    last_match = None\n",
    "    for i in range(len(lines)-1, -1, -1):\n",
    "        if search_text in lines[i]:\n",
    "            last_match = i\n",
    "            break\n",
    "\n",
    "    # If a match was found, copy the specified number of lines below it to the output file\n",
    "    if last_match is not None:\n",
    "        output_lines = lines[last_match+1:last_match+num_lines+1]\n",
    "        with open(\"magnetization_table.txt\", \"w\") as f:\n",
    "            f.writelines(output_lines)\n",
    "            print(\"Copied {} lines to output file\".format(num_lines))\n",
    "    else:\n",
    "        print(\"No match found in input file\")\n",
    "read_write_file()\n",
    "\n",
    "input_file = \"magnetization_table.txt\"  # replace with the name of your input file\n",
    "\n",
    "with open(input_file, \"r\") as f:\n",
    "    lines = f.readlines()\n",
    "\n",
    "output_lines = []\n",
    "for line in lines[2:]:  # ignore the first two header lines\n",
    "    fields = line.strip().split()\n",
    "    if len(fields) >= 1:\n",
    "        try:\n",
    "            last_col = float(fields[-1])\n",
    "            if last_col < -0.01 or last_col > 0.01:  # keep lines where the last column is less than -0.01 or greater than 0.01\n",
    "                output_lines.append(line)\n",
    "        except ValueError:\n",
    "            # Ignore lines where the last field is not a valid number\n",
    "            pass\n",
    "\n",
    "print('hello')\n",
    "\n",
    "with open(\"magnetization_stripped.txt\", \"w\") as f:\n",
    "    f.writelines(output_lines)"
   ],
   "metadata": {
    "collapsed": false,
    "pycharm": {
     "name": "#%%\n"
    }
   }
  }
 ],
 "metadata": {
  "kernelspec": {
   "display_name": "Python 3",
   "language": "python",
   "name": "python3"
  },
  "language_info": {
   "codemirror_mode": {
    "name": "ipython",
    "version": 2
   },
   "file_extension": ".py",
   "mimetype": "text/x-python",
   "name": "python",
   "nbconvert_exporter": "python",
   "pygments_lexer": "ipython2",
   "version": "2.7.6"
  }
 },
 "nbformat": 4,
 "nbformat_minor": 0
}